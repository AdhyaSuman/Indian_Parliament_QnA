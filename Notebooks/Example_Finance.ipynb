{
 "cells": [
  {
   "cell_type": "code",
   "execution_count": null,
   "id": "acbe16ff",
   "metadata": {
    "ExecuteTime": {
     "end_time": "2023-07-12T07:09:26.446937Z",
     "start_time": "2023-07-12T07:09:26.443168Z"
    }
   },
   "outputs": [],
   "source": [
    "cd .."
   ]
  },
  {
   "cell_type": "markdown",
   "id": "65bd717a",
   "metadata": {
    "heading_collapsed": true
   },
   "source": [
    "# Preprocessing"
   ]
  },
  {
   "cell_type": "code",
   "execution_count": null,
   "id": "fa55708d",
   "metadata": {
    "ExecuteTime": {
     "end_time": "2023-07-11T06:23:59.722040Z",
     "start_time": "2023-07-11T06:16:20.342395Z"
    },
    "hidden": true
   },
   "outputs": [],
   "source": [
    "import warnings\n",
    "warnings.filterwarnings(\"ignore\")\n",
    "import pandas as pd\n",
    "import re\n",
    "from octis.preprocessing.preprocessing import Preprocessing\n",
    "from nltk.corpus import stopwords\n",
    "from data_preparation import for_dlda, for_detm\n",
    "\n",
    "min_df=0.001 #ignore terms that appear in less than 0.1% of the documents\n",
    "\n",
    "raw_data_parent_dir = './Raw_data/' #loading_path\n",
    "save_data_parent_dir = './Processed_data/' #saving path\n",
    "\n",
    "ministry = 'Finance'\n",
    "data = pd.read_csv(raw_data_parent_dir+'{}/{}.csv'.format(ministry,ministry),\n",
    "                   usecols=['date', 'question_text', 'answer_text', 'subject']) #loading the csv file\n",
    "\n",
    "#combining the required columns\n",
    "data['QnA_sub']=data['question_text'].astype(str) + data['answer_text'].astype(str) + data['subject'].astype(str)\n",
    "data = data.drop(['question_text', 'answer_text', 'subject'], 1)\n",
    "\n",
    "#sorting the dataframe wrt date\n",
    "def sort_by_time(data):\n",
    "    data['date'] =pd.to_datetime(data.date)\n",
    "    data.sort_values(by=['date'], inplace=True)\n",
    "    data = data.reset_index(drop=True)\n",
    "    data['year'] = data.apply(lambda row: row.date.year, axis = 1)\n",
    "    data = data.drop(['date'], axis = 1)\n",
    "    return data\n",
    "\n",
    "data = sort_by_time(data)\n",
    "time_slice = list(data.groupby('year')['year'].transform('count').unique())\n",
    "timestamps = list(data['year']-data.year[0])\n",
    "\n",
    "#Replacing the term demonetization with demonetisation\n",
    "insensitive_demonetiz = re.compile(re.escape('demonetiz'), re.IGNORECASE)\n",
    "\n",
    "#saving the raw data\n",
    "with open(raw_data_parent_dir+\"{}/raw_data.txt\".format(ministry), 'w') as output:\n",
    "    for row in data.QnA_sub:\n",
    "        output.write(insensitive_demonetiz.sub('demonetis', str(row)) + '\\n')\n",
    "\n",
    "#saving the timestamps\n",
    "with open(raw_data_parent_dir+\"{}/initial_timestamps.txt\".format(ministry), 'w') as output:\n",
    "    for row in timestamps:\n",
    "        output.write(str(row) + '\\n')\n",
    "\n",
    "#removing stopwords\n",
    "stop_words = stopwords.words('english')\n",
    "stop_words.extend(['shri', 'sir', 'hitherto', 'narain', 'namo', 'namonarain', 'meena', 'date', 'dated',\n",
    "                   'yashwant', 'sinha', 'various', 'likely', 'unikely', 'say', 'government', 'minister',\n",
    "                   'ministers', 'ministry', 'about', 'total', 'such', 'bring', 'regard', 'patil',\n",
    "                   'adhalrao', 'thereof', 'etc', 'made', 'also', 'per', 'however', 'india', 'indian',\n",
    "                   'indias','taken', 'aforesaid', 'along', 'manner', 'upto', 'would', 'getting',\n",
    "                   'regarding', 'said', 'if', 'receive', 'whatever', 'gingee', 'ramachandran', 'sh',\n",
    "                   'palanimanickam', 'chidambaram', 'jaswant', 'new', 'old', 'raise', 'singh', 'rakesh',\n",
    "                   'mohan', 'datum', 'refer', 'do', 'done', 'shall', 'i', 'ii', 'iii', 'iv', 'v', 'vi',\n",
    "                   'vii', 'viii', 'ix', 'x', 'xi', 'xii', 'xiii', 'xiv', 'xv', 'date', 'yes', 'no', 'not',\n",
    "                   'non', 'www', 'whether', 'detail', 'submit', 'finance', 'take'])\n",
    "\n",
    "\n",
    "#preprocessing using octis\n",
    "preprocessor = Preprocessing(vocabulary=None,\n",
    "                             min_df = min_df,\n",
    "                             max_df = .95,\n",
    "                             remove_punctuation=True,\n",
    "                             stopword_list=stop_words,\n",
    "                             min_chars=3, \n",
    "                             min_words_docs=3,\n",
    "                             verbose=True\n",
    "                            )\n",
    "\n",
    "processed_data = preprocessor.preprocess_dataset(documents_path=raw_data_parent_dir+\"{}/raw_data.txt\".format(ministry),\n",
    "                                                 labels_path=raw_data_parent_dir+\"{}/initial_timestamps.txt\".format(ministry))\n",
    "\n",
    "processed_data.save(save_data_parent_dir+\"{}/octis_data/\".format(ministry))\n",
    "\n",
    "# creating data for dlda \n",
    "print('Creating data for dlda to analyze the full dataset:')\n",
    "for_dlda(data_load_dir=save_data_parent_dir+\"{}/octis_data/\".format(ministry),\n",
    "         save_dir=save_data_parent_dir+\"{}/DLDA/full_data/\".format(ministry), \n",
    "         unprep_path=raw_data_parent_dir+\"{}/raw_data.txt\".format(ministry),\n",
    "         verbose=True,\n",
    "         min_count=5,\n",
    "         threshold=20,\n",
    "         add_val=True,# set add_val=True, add_test=True to analyze the full dataset\n",
    "         add_test=True,\n",
    "         seed = 2021)\n",
    "print('Done...!!!')"
   ]
  },
  {
   "cell_type": "markdown",
   "id": "b46db874",
   "metadata": {
    "heading_collapsed": true
   },
   "source": [
    "# Run LDA"
   ]
  },
  {
   "cell_type": "code",
   "execution_count": null,
   "id": "631c5a1a",
   "metadata": {
    "ExecuteTime": {
     "end_time": "2023-07-11T06:40:49.622268Z",
     "start_time": "2023-07-11T06:39:18.960063Z"
    },
    "hidden": true
   },
   "outputs": [],
   "source": [
    "import pickle\n",
    "from gensim.models import LdaModel\n",
    "\n",
    "def unpickling(path):\n",
    "    with open(path, 'rb') as f:\n",
    "        data = pickle.load(f)\n",
    "        return data\n",
    "\n",
    "ministry = 'Finance'\n",
    "save_data_parent_dir = './Processed_data/'\n",
    "data_dir = save_data_parent_dir+\"{}/DLDA/full_data/\".format(ministry)\n",
    "\n",
    "#loading required files\n",
    "id2word = unpickling(data_dir+'id2word.pkl')\n",
    "bow = unpickling(data_dir+'train_bow.pkl')\n",
    "\n",
    "lda = LdaModel(corpus=bow, id2word=id2word, num_topics=20, random_state=2021, passes=20)\n",
    "\n",
    "#Saving the learned LDA model\n",
    "# lda.save('./Results/lda_{}.model'.format(ministry))"
   ]
  },
  {
   "cell_type": "markdown",
   "id": "ae99e1df",
   "metadata": {
    "heading_collapsed": true
   },
   "source": [
    "# Run LDAseq"
   ]
  },
  {
   "cell_type": "code",
   "execution_count": null,
   "id": "8fd370cc",
   "metadata": {
    "ExecuteTime": {
     "end_time": "2023-07-12T04:30:19.077406Z",
     "start_time": "2023-07-12T04:30:19.070051Z"
    },
    "hidden": true
   },
   "outputs": [],
   "source": [
    "from gensim.models.ldaseqmodel import LdaSeqModel\n",
    "\n",
    "#loading time slice\n",
    "time_slice = unpickling(data_dir+'tslice_tr.pkl')\n",
    "\n",
    "lda_seq_fulldata = LdaSeqModel(corpus=bow,\n",
    "                               time_slice=time_slice,\n",
    "                               id2word=id2word,\n",
    "                               num_topics=lda.num_topics,\n",
    "                               initialize='ldamodel',\n",
    "                               lda_model=lda,\n",
    "                               passes=20,\n",
    "                               random_state=2021,\n",
    "                               chunksize=100)\n",
    "\n",
    "#Saving the ldaseq model\n",
    "# lda_seq_fulldata.save('./Results/ldaseq_{}_ntopics{}.model'.format(ministry,\n",
    "#                                                                    full_data_lda.num_topics))"
   ]
  },
  {
   "cell_type": "markdown",
   "id": "9311563e",
   "metadata": {},
   "source": [
    "# Analyze the topics"
   ]
  },
  {
   "cell_type": "code",
   "execution_count": null,
   "id": "790916c8",
   "metadata": {
    "ExecuteTime": {
     "end_time": "2023-07-12T07:09:29.782561Z",
     "start_time": "2023-07-12T07:09:29.462884Z"
    }
   },
   "outputs": [],
   "source": [
    "#loading the model\n",
    "from gensim.models.ldaseqmodel import LdaSeqModel\n",
    "lda_seq_fulldata = LdaSeqModel.load('./Results/ldaseq_Finance_ntopics20.model')"
   ]
  },
  {
   "cell_type": "code",
   "execution_count": null,
   "id": "af524470",
   "metadata": {
    "ExecuteTime": {
     "end_time": "2023-07-12T07:09:53.659984Z",
     "start_time": "2023-07-12T07:09:53.655070Z"
    }
   },
   "outputs": [],
   "source": [
    "import pandas as pd\n",
    "import plotly.io as pio\n",
    "pio.renderers.default='notebook'\n",
    "\n",
    "\n",
    "def plot_topic_words(model, topic = 0, top_n_words = 10, allow_save = True, path = ''):\n",
    "    '''\n",
    "    #plot words wrt time\n",
    "    --------------------\n",
    "    model: LdaSeqModel. (type: gensim.models.ldaseqmodel.LdaSeqModel)\n",
    "    topic: Which topic to plot. (type: int)\n",
    "    top_n_words: No. of top words to plot. (type: int)\n",
    "    allow_save: True, if HTML plot need to save. (type: bool)\n",
    "    path: Path to save the plot if (only if allow_save=True). (type: str)\n",
    "    --------------------\n",
    "    '''    \n",
    "    path = path+'topic_'+str(topic)+'.html'\n",
    "    lst = model.print_topic_times(topic = topic, top_terms = top_n_words)\n",
    "    words = set([word for time in range(len(lst)) for word,_ in lst[time]])\n",
    "    data = pd.DataFrame(columns=words , index=range(len(lst)))\n",
    "    for time in range(len(lst)):\n",
    "        for word,prob in lst[time]:\n",
    "            data.loc[time, word] = prob\n",
    "    data.index = data.index + 1999\n",
    "    pd.options.plotting.backend = \"plotly\"\n",
    "    fig = data.plot(title=\"Distribution of words for topic-\" + str(topic) +\" wrt time\",\n",
    "                    y=list(words),\n",
    "                    labels=dict(index=\"Time\", value=\"Probability\", variable=\"Words\"))\n",
    "    fig.update_xaxes(nticks=len(lst))\n",
    "    if allow_save:\n",
    "        fig.write_html(path)\n",
    "    fig.show()\n",
    "    return data"
   ]
  },
  {
   "cell_type": "code",
   "execution_count": null,
   "id": "ad7bfa52",
   "metadata": {
    "ExecuteTime": {
     "end_time": "2023-07-12T07:09:54.314567Z",
     "start_time": "2023-07-12T07:09:54.199192Z"
    },
    "scrolled": false
   },
   "outputs": [],
   "source": [
    "dataframe = plot_topic_words(lda_seq_fulldata,\n",
    "                             topic = 8,\n",
    "                             top_n_words = 10,\n",
    "                             allow_save = True,\n",
    "                             path='./Results/Finance_ldaseq.html')"
   ]
  },
  {
   "cell_type": "code",
   "execution_count": null,
   "id": "de5c4bb6",
   "metadata": {},
   "outputs": [],
   "source": []
  }
 ],
 "metadata": {
  "hide_input": false,
  "kernelspec": {
   "display_name": "Python 3",
   "language": "python",
   "name": "python3"
  },
  "language_info": {
   "codemirror_mode": {
    "name": "ipython",
    "version": 3
   },
   "file_extension": ".py",
   "mimetype": "text/x-python",
   "name": "python",
   "nbconvert_exporter": "python",
   "pygments_lexer": "ipython3",
   "version": "3.8.10"
  },
  "latex_envs": {
   "LaTeX_envs_menu_present": true,
   "autoclose": true,
   "autocomplete": true,
   "bibliofile": "biblio.bib",
   "cite_by": "apalike",
   "current_citInitial": 1,
   "eqLabelWithNumbers": true,
   "eqNumInitial": 1,
   "hotkeys": {
    "equation": "Ctrl-E",
    "itemize": "Ctrl-I"
   },
   "labels_anchors": false,
   "latex_user_defs": false,
   "report_style_numbering": true,
   "user_envs_cfg": true
  },
  "toc": {
   "base_numbering": 1,
   "nav_menu": {},
   "number_sections": true,
   "sideBar": true,
   "skip_h1_title": false,
   "title_cell": "Table of Contents",
   "title_sidebar": "Contents",
   "toc_cell": false,
   "toc_position": {},
   "toc_section_display": true,
   "toc_window_display": false
  },
  "varInspector": {
   "cols": {
    "lenName": 16,
    "lenType": 16,
    "lenVar": 40
   },
   "kernels_config": {
    "python": {
     "delete_cmd_postfix": "",
     "delete_cmd_prefix": "del ",
     "library": "var_list.py",
     "varRefreshCmd": "print(var_dic_list())"
    },
    "r": {
     "delete_cmd_postfix": ") ",
     "delete_cmd_prefix": "rm(",
     "library": "var_list.r",
     "varRefreshCmd": "cat(var_dic_list()) "
    }
   },
   "types_to_exclude": [
    "module",
    "function",
    "builtin_function_or_method",
    "instance",
    "_Feature"
   ],
   "window_display": false
  }
 },
 "nbformat": 4,
 "nbformat_minor": 5
}
